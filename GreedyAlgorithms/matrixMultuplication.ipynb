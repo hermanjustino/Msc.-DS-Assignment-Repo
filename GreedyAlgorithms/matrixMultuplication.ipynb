{
 "cells": [
  {
   "cell_type": "code",
   "execution_count": 1,
   "id": "86c6ecc8-2d3a-4a8c-977b-bd01e6b9d02e",
   "metadata": {},
   "outputs": [
    {
     "name": "stdout",
     "output_type": "stream",
     "text": [
      "Matrix A: [[1, 2, 3], [4, 5, 6], [7, 8, 9]]\n",
      "Matrix B: [[9, 8, 7], [6, 5, 4], [3, 2, 1]]\n",
      "Result: [[30, 24, 18], [84, 69, 54], [138, 114, 90]]\n"
     ]
    }
   ],
   "source": [
    "def matrix_multiply(A, B):\n",
    "    n = len(A)\n",
    "    # Initialize the result matrix with zeros\n",
    "    C = [[0] * n for _ in range(n)]\n",
    "    \n",
    "    for i in range(n):\n",
    "        for j in range(n):\n",
    "            # Compute the dot product of the i-th row of A and the j-th column of B\n",
    "            C[i][j] = sum(A[i][k] * B[k][j] for k in range(n))\n",
    "    \n",
    "    return C\n",
    "\n",
    "# Example usage\n",
    "A = [\n",
    "    [1, 2, 3],\n",
    "    [4, 5, 6],\n",
    "    [7, 8, 9]\n",
    "]\n",
    "\n",
    "B = [\n",
    "    [9, 8, 7],\n",
    "    [6, 5, 4],\n",
    "    [3, 2, 1]\n",
    "]\n",
    "\n",
    "result = matrix_multiply(A, B)\n",
    "print(\"Matrix A:\", A)\n",
    "print(\"Matrix B:\", B)\n",
    "print(\"Result:\", result)"
   ]
  },
  {
   "cell_type": "code",
   "execution_count": 2,
   "id": "eb8d2f65-6d00-400e-9d99-071eec06ad59",
   "metadata": {},
   "outputs": [
    {
     "name": "stdout",
     "output_type": "stream",
     "text": [
      "Matrix A: [[1, 2], [3, 4]]\n",
      "Matrix B: [[5, 6], [7, 8]]\n",
      "Result: [[19, 22], [43, 50]]\n"
     ]
    }
   ],
   "source": [
    "def matrix_multiply(A, B):\n",
    "    n = len(A)\n",
    "    # Initialize the result matrix with zeros\n",
    "    C = [[0] * n for _ in range(n)]\n",
    "    \n",
    "    for i in range(n):\n",
    "        for j in range(n):\n",
    "            # Compute the dot product of the i-th row of A and the j-th column of B\n",
    "            C[i][j] = sum(A[i][k] * B[k][j] for k in range(n))\n",
    "    \n",
    "    return C\n",
    "\n",
    "# Example usage\n",
    "A = [\n",
    "    [1, 2],\n",
    "    [3, 4]\n",
    "]\n",
    "\n",
    "B = [\n",
    "    [5, 6],\n",
    "    [7, 8]\n",
    "]\n",
    "\n",
    "result = matrix_multiply(A, B)\n",
    "print(\"Matrix A:\", A)\n",
    "print(\"Matrix B:\", B)\n",
    "print(\"Result:\", result)"
   ]
  },
  {
   "cell_type": "code",
   "execution_count": null,
   "id": "91169ea4-95b0-483d-a046-d8908a6a6fa5",
   "metadata": {},
   "outputs": [],
   "source": []
  }
 ],
 "metadata": {
  "kernelspec": {
   "display_name": "Python 3 (ipykernel)",
   "language": "python",
   "name": "python3"
  },
  "language_info": {
   "codemirror_mode": {
    "name": "ipython",
    "version": 3
   },
   "file_extension": ".py",
   "mimetype": "text/x-python",
   "name": "python",
   "nbconvert_exporter": "python",
   "pygments_lexer": "ipython3",
   "version": "3.9.0"
  }
 },
 "nbformat": 4,
 "nbformat_minor": 5
}
