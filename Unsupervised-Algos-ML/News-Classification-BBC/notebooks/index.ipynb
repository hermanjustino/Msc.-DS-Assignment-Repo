{
 "cells": [
  {
   "cell_type": "code",
   "execution_count": null,
   "metadata": {
    "_cell_guid": "b1076dfc-b9ad-4769-8c92-a6c4dae69d19",
    "_uuid": "8f2839f25d086af736a60e9eeb907d3b93b6e0e5"
   },
   "outputs": [
    {
     "name": "stdout",
     "output_type": "stream",
     "text": [
      "Running on Kaggle: False\n",
      "Running locally - using test data for development\n",
      "Local test data ready\n"
     ]
    }
   ],
   "source": [
    "import os\n",
    "import pandas as pd\n",
    "import numpy as np\n",
    "\n",
    "# Detect environment\n",
    "KAGGLE_ENV = os.path.exists('/kaggle/input')\n",
    "\n",
    "print(f\"Running on Kaggle: {KAGGLE_ENV}\")\n",
    "\n",
    "if KAGGLE_ENV:\n",
    "    print(\"Using Kaggle competition data\")\n",
    "    DATA_PATH = '/kaggle/input/histopathologic-cancer-detection/'\n",
    "    \n",
    "    # Load competition data\n",
    "    train_df = pd.read_csv(f'{DATA_PATH}train_labels.csv')\n",
    "    sample_submission_df = pd.read_csv(f'{DATA_PATH}sample_submission.csv')\n",
    "    print(f\"Train shape: {train_df.shape}\")\n",
    "    print(f\"Sample submission shape: {sample_submission_df.shape}\")\n",
    "\n",
    "else:\n",
    "    print(\"Running locally - using test data for development\")\n",
    "    # Create test data for local algorithm testing\n",
    "    # You can modify this based on your competition's data structure\n",
    "    test_array = [1, 4, 2, -2, 0, -1, 2, 3]\n",
    "    test_sets = [[1, 2, 3, 4, 5, 10], [11, 23, 37, 48, 94, 152]]\n",
    "    print(\"Local test data ready\")"
   ]
  },
  {
   "cell_type": "code",
   "execution_count": null,
   "metadata": {},
   "outputs": [],
   "source": []
  }
 ],
 "metadata": {
  "kaggle": {
   "accelerator": "none",
   "dataSources": [
    {
     "databundleVersionId": 862157,
     "sourceId": 11848,
     "sourceType": "competition"
    }
   ],
   "dockerImageVersionId": 31089,
   "isGpuEnabled": false,
   "isInternetEnabled": false,
   "language": "python",
   "sourceType": "notebook"
  },
  "kernelspec": {
   "display_name": "Python 3 (ipykernel)",
   "language": "python",
   "name": "python3"
  },
  "language_info": {
   "codemirror_mode": {
    "name": "ipython",
    "version": 3
   },
   "file_extension": ".py",
   "mimetype": "text/x-python",
   "name": "python",
   "nbconvert_exporter": "python",
   "pygments_lexer": "ipython3",
   "version": "3.9.0"
  }
 },
 "nbformat": 4,
 "nbformat_minor": 4
}
